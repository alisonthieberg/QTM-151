{
 "cells": [
  {
   "cell_type": "markdown",
   "metadata": {},
   "source": [
    "# Assignment 4"
   ]
  },
  {
   "cell_type": "markdown",
   "metadata": {},
   "source": [
    "## Submit as an HTML file"
   ]
  },
  {
   "cell_type": "markdown",
   "metadata": {},
   "source": [
    "<font size = \"5\">\n",
    "Print your Emory ID below"
   ]
  },
  {
   "cell_type": "code",
   "execution_count": 1,
   "metadata": {},
   "outputs": [
    {
     "name": "stdout",
     "output_type": "stream",
     "text": [
      "2482878\n"
     ]
    }
   ],
   "source": [
    "print(\"2482878\")"
   ]
  },
  {
   "cell_type": "markdown",
   "metadata": {},
   "source": [
    "<font size = \"5\">\n",
    "\n",
    "Import both the MatPlotLib and Numpy libraries"
   ]
  },
  {
   "cell_type": "code",
   "execution_count": 2,
   "metadata": {},
   "outputs": [],
   "source": [
    "import numpy as np\n",
    "import matplotlib.pyplot as plt"
   ]
  },
  {
   "cell_type": "markdown",
   "metadata": {},
   "source": [
    "<font size = \"5\">\n",
    "\n",
    "1. For-loops to count conditional statements\n",
    "\n",
    "<font size = \"3\">\n",
    "\n",
    "   - Define a custom list of people's ages <br>\n",
    "   (write down ages for 8 people, between ten and fifty)\n",
    "   - Define an empty list called ```list_eligible```\n",
    "   - Use a For-Loop that goes through the ages of the 8 people, then appends the <br>\n",
    "   value ```True``` to  ```list_eligible``` if their age is greater than or equal to 16 <br>\n",
    "   and ```False``` otherwise\n"
   ]
  },
  {
   "cell_type": "code",
   "execution_count": 106,
   "metadata": {},
   "outputs": [
    {
     "name": "stdout",
     "output_type": "stream",
     "text": [
      "[False, True, False, True, True, True, True, True]\n"
     ]
    }
   ],
   "source": [
    "# Write your own code\n",
    "\n",
    "list_ages = [14,18,15,16,23,42,44,48]\n",
    "list_eligible = []\n",
    "\n",
    "\n",
    "for age in list_ages:\n",
    "    vote = age >= 16\n",
    "    list_eligible.append(vote)\n",
    "\n",
    "\n",
    "print(list_eligible) \n",
    "    \n",
    "                                     "
   ]
  },
  {
   "cell_type": "markdown",
   "metadata": {},
   "source": [
    "<font size = \"5\">\n",
    "\n",
    "2.  This is a follow-up to question 1. \n",
    "\n",
    "<font size = \"3\">\n",
    "\n",
    "- If you run ```np.sum(list_eligible)```, what value is Python assigning to <br>\n",
    " ```True``` or ```False``` elements in the sum? Write you answer as a comment.\n",
    "- How would you use this information to count the amount of people who are <br>\n",
    "**NOT** eligible? Write code that answers this question.\n",
    "\n",
    "   "
   ]
  },
  {
   "cell_type": "code",
   "execution_count": 108,
   "metadata": {},
   "outputs": [
    {
     "data": {
      "text/plain": [
       "6"
      ]
     },
     "execution_count": 108,
     "metadata": {},
     "output_type": "execute_result"
    }
   ],
   "source": [
    "# Write your own code\n",
    "\n",
    "np.sum(list_eligible)\n",
    "\n",
    "# Python is summing the the True elements of the list. It has identified 6 elements that are True\n",
    "\n",
    "len(list_eligible) - np.sum(list_eligible)\n",
    "\n",
    "# There are 2 false elements in my list"
   ]
  },
  {
   "cell_type": "markdown",
   "metadata": {},
   "source": [
    "<font size = \"5\">\n",
    "\n",
    "3. Use a For-Loop for message automation \n",
    "\n",
    "<font size = \"3\">\n",
    "\n",
    "- Write your own list of customer names\n",
    "- Print an automated message with the unique name of the customer that tells <br>\n",
    "them they've won a giveaway \n",
    "- How many messages to do you expect to see? Write code that automatically <br>\n",
    "prints the size of the customer list"
   ]
  },
  {
   "cell_type": "code",
   "execution_count": 112,
   "metadata": {},
   "outputs": [
    {
     "name": "stdout",
     "output_type": "stream",
     "text": [
      "Dear Ari, congradulations! You have won our giveaway!\n",
      "Dear Eitan, congradulations! You have won our giveaway!\n",
      "Dear Moriah, congradulations! You have won our giveaway!\n",
      "Dear Hadara, congradulations! You have won our giveaway!\n",
      "Dear Emuna, congradulations! You have won our giveaway!\n",
      "Dear Raphael, congradulations! You have won our giveaway!\n",
      "6\n"
     ]
    }
   ],
   "source": [
    "# Write your own code\n",
    "\n",
    "my_customers = [\"Ari\", \"Eitan\", \"Moriah\", \"Hadara\", \"Emuna\",\"Raphael\"]\n",
    "\n",
    "for name in my_customers:\n",
    "    print(\"Dear \" + name + \", congradulations! You have won our giveaway!\")\n",
    "    \n",
    "# since there are 6 names in my customer list I expect to see 6 messages\n",
    "\n",
    "print(len(my_customers))\n",
    "    "
   ]
  },
  {
   "cell_type": "markdown",
   "metadata": {},
   "source": [
    "<font size = '5'>\n",
    "\n",
    "4. For-Loops + Plotting\n",
    "\n",
    "<font size = \"3\">\n",
    "\n",
    "   - Create an array of x-values with all the integers between 1 and 10\n",
    "   - Create a vector ```vec_y1``` where each element is computed from <br>\n",
    "   the formula $ y_1 = 0.5x^4 + 2x^2 + 4x$.\n",
    "   - Create a vector ```vec_y2``` where each element is computed from <br>\n",
    "   the formula $ y_2 = 2x^3 + 4x + 4$.\n",
    "   - Create an object ```list_vectors``` with elements ```vec_y1``` and ```vec_y2```\n",
    "   - Create a for-loop that goes through each element of <br>\n",
    "   ```list_vectors``` and plots each list of $y$ values against $x$\n",
    "\n",
    "Note: The final output should be a 2 dimensional scatter plot with two sets, <br>\n",
    "of points, with the $y_1$ and $y_2$ on the vertical axis, and the $x$ values <br>\n",
    "on the horizontal axis. Remember to always label the axes to make it look <br>\n",
    "more professional."
   ]
  },
  {
   "cell_type": "code",
   "execution_count": 114,
   "metadata": {},
   "outputs": [
    {
     "data": {
      "image/png": "[encoded data removed]",
      "text/plain": [
       "<Figure size 640x480 with 1 Axes>"
      ]
     },
     "metadata": {},
     "output_type": "display_data"
    }
   ],
   "source": [
    "\n",
    "# Write your own code\n",
    "\n",
    "\n",
    "value_x = np.array([2,3,5,6,7,9])\n",
    "\n",
    "vec_y1 = 0.5*(value_x**4) + 2*(value_x**2) + value_x*4\n",
    "\n",
    "vec_y2 = 2*(value_x**3) + value_x*4 + 4\n",
    "\n",
    "list_vectors = [vec_y1,vec_y2]\n",
    "\n",
    "vector_x = np.array(value_x)\n",
    "\n",
    "for vector in list_vectors:\n",
    "    plt.scatter(x= vector_x, y = vector)\n",
    "    plt.xlabel(\"x values\")\n",
    "    plt.ylabel(\"y values\")\n",
    "    plt.title(\"Two Functions\")\n"
   ]
  },
  {
   "cell_type": "markdown",
   "metadata": {},
   "source": [
    "<font size = \"5\">\n",
    "\n",
    "5. Loops + Multiple Lists\n",
    "\n",
    "<font size =\"3\">\n",
    "\n",
    "Before starting, read the following information about nested loops:\n",
    "\n",
    "https://www.w3schools.com/python/gloss_python_for_nested.asp\n",
    "\n",
    "<img src=\"figures/grading_scale.png\" alt=\"drawing\" width=\"600\"/>\n",
    "\n",
    "- Convert the following three lists to arrays\n",
    "\n",
    "```list_lower = [93, 87, 83, 80, 75, 70, 65, 60, 55, 0] ``` <br>\n",
    "```list_upper = [100,92, 86, 82, 79, 74, 69, 64, 59, 54] ``` <br>\n",
    "```list_letters = [\"A\",\"A-\",\"B+\",\"B\",\"B-\",\"C+\",\"C\",\"C-\",\"D\",\"F\"] ```\n",
    "\n",
    "- Convert the following list of student grades to an array\n",
    "\n",
    "```list_studentgrades = [80, 70, 96, 65, 92] ```\n",
    "\n",
    "- Create a nested for-loop that outputs\n",
    "\n",
    "\"The student got a numeric grade of .... and their letter grade was ...\"\n",
    "\n",
    "Example of the procedure:\n",
    "1. Start with the first student on the list, who's grade is 80.\n",
    "2. Check whether the student's grade is an A by checking whether 80 is between <br>\n",
    "93 and 100. Then check whether it's a B by checking whether the grade is between <br>\n",
    "87 and 92, and so on. This is the \"inner loop\".\n",
    "3. Within the inner loop, if you find the right grade bracket, print the <br>\n",
    "desired message. Else, do not print anything.\n",
    "4. Do this procedure for all students, i.e. the \"outer loop\".\n",
    "\n",
    "\n",
    "\n"
   ]
  },
  {
   "cell_type": "code",
   "execution_count": 118,
   "metadata": {},
   "outputs": [
    {
     "name": "stdout",
     "output_type": "stream",
     "text": [
      "The student got a numeric grade of 80 and their letter grade was B\n",
      "The student got a numeric grade of 70 and their letter grade was C+\n",
      "The student got a numeric grade of 96 and their letter grade was A\n",
      "The student got a numeric grade of 65 and their letter grade was C\n",
      "The student got a numeric grade of 92 and their letter grade was A-\n"
     ]
    }
   ],
   "source": [
    "# Write your own code\n",
    "\n",
    "list_lower = [93, 87, 83, 80, 75, 70, 65, 60, 55, 0]\n",
    "list_upper = [100,92, 86, 82, 79, 74, 69, 64, 59, 54]\n",
    "list_letters = [\"A\",\"A-\",\"B+\",\"B\",\"B-\",\"C+\",\"C\",\"C-\",\"D\",\"F\"]\n",
    "\n",
    "array_lower = np.array(list_lower)\n",
    "array_upper = np.array(list_upper)\n",
    "array_letters = np.array(list_letters)\n",
    "\n",
    "list_studentgrades = [80, 70, 96, 65, 92]\n",
    "\n",
    "array_studentgrades = np.array(list_studentgrades)\n",
    "\n",
    "\n",
    "for indexgrade in range(len(list_studentgrades)):  \n",
    "\n",
    "    for indexletter in range(len(list_letters)):\n",
    "\n",
    "        if (array_studentgrades[indexgrade] <= array_upper[indexletter]) & (array_studentgrades[indexgrade] >= array_lower[indexletter]): \n",
    "\n",
    "            print(\"The student got a numeric grade of \" + str(array_studentgrades[indexgrade]) +\n",
    "                  \n",
    "                   \" and their letter grade was \" + str(array_letters[indexletter]))\n",
    "\n",
    "\n",
    " "
   ]
  },
  {
   "cell_type": "code",
   "execution_count": null,
   "metadata": {},
   "outputs": [],
   "source": []
  }
 ],
 "metadata": {
  "kernelspec": {
   "display_name": "base",
   "language": "python",
   "name": "python3"
  },
  "language_info": {
   "codemirror_mode": {
    "name": "ipython",
    "version": 3
   },
   "file_extension": ".py",
   "mimetype": "text/x-python",
   "name": "python",
   "nbconvert_exporter": "python",
   "pygments_lexer": "ipython3",
   "version": "3.10.9"
  }
 },
 "nbformat": 4,
 "nbformat_minor": 2
}
