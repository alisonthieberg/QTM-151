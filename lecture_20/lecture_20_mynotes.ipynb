{
 "cells": [
  {
   "attachments": {},
   "cell_type": "markdown",
   "metadata": {},
   "source": [
    "# <span style=\"color:darkblue\"> Lecture 20 - Time Data </span>\n",
    "\n",
    "<font size = \"5\">\n",
    "\n",
    "In  the last lecture we ...\n",
    "- Completed the module on SQL\n",
    "- Learned about escape characters\n",
    "\n",
    "\n",
    "In  this lecture we will ...\n",
    "\n",
    "- Process time data in Python\n",
    "- Learn about wildcards"
   ]
  },
  {
   "attachments": {},
   "cell_type": "markdown",
   "metadata": {},
   "source": [
    "# <span style=\"color:darkblue\"> I. Import Libraries and Data </span>"
   ]
  },
  {
   "cell_type": "markdown",
   "metadata": {},
   "source": [
    "<font size = \"5\">\n",
    "\n",
    "Import libraries"
   ]
  },
  {
   "cell_type": "code",
   "execution_count": 1,
   "metadata": {},
   "outputs": [],
   "source": [
    "# \"pandas\" processes datasets\n",
    "# \"maplotlib.pyplot\" generates graphs\n",
    "# \"maplotlib.dates\" has advanced options for plotting dates\n",
    "# \"datetime\" handles date information\n",
    "\n",
    "import pandas as pd\n",
    "import matplotlib.pyplot as plt\n",
    "import matplotlib.dates as mdates\n",
    "from datetime import date, time, datetime"
   ]
  },
  {
   "attachments": {},
   "cell_type": "markdown",
   "metadata": {},
   "source": [
    "<font size = \"5\">\n",
    "\n",
    "Import data"
   ]
  },
  {
   "cell_type": "code",
   "execution_count": 2,
   "metadata": {},
   "outputs": [],
   "source": [
    "financial = pd.read_csv(\"data_raw/financial.csv\")"
   ]
  },
  {
   "attachments": {},
   "cell_type": "markdown",
   "metadata": {},
   "source": [
    "<font size = \"5\">\n",
    "\n",
    "\"Parse\" time columns"
   ]
  },
  {
   "cell_type": "code",
   "execution_count": 3,
   "metadata": {},
   "outputs": [],
   "source": [
    "# Convert string column to datetime format\n",
    "# If the date format is simple, you can also parse on input as\n",
    "# financial = pd.read_csv(\"data_raw/financial.csv\",parse_dates = [\"date\"]\n",
    "# See advanced options for parsing further in the lecture...\n",
    "\n",
    "financial[\"date\"] = pd.to_datetime(financial[\"date_str\"])"
   ]
  },
  {
   "attachments": {},
   "cell_type": "markdown",
   "metadata": {},
   "source": [
    "<font size = \"5\">\n",
    "\n",
    "Check Types"
   ]
  },
  {
   "cell_type": "code",
   "execution_count": 4,
   "metadata": {},
   "outputs": [
    {
     "data": {
      "text/plain": [
       "date_str            object\n",
       "sp500              float64\n",
       "djia               float64\n",
       "date_ex1            object\n",
       "date_ex2            object\n",
       "date_ex3            object\n",
       "date        datetime64[ns]\n",
       "dtype: object"
      ]
     },
     "execution_count": 4,
     "metadata": {},
     "output_type": "execute_result"
    }
   ],
   "source": [
    "# Standard data types are \"int\", \"str\", \"float\", and \"bool\"\n",
    "# There is also a \"datetime\" types\n",
    "\n",
    "financial.dtypes"
   ]
  },
  {
   "attachments": {},
   "cell_type": "markdown",
   "metadata": {},
   "source": [
    "<font size = \"5\">\n",
    "\n",
    "Visualize time data"
   ]
  },
  {
   "cell_type": "code",
   "execution_count": 5,
   "metadata": {},
   "outputs": [
    {
     "data": {
      "text/plain": [
       "Timestamp('2018-04-04 00:00:00')"
      ]
     },
     "execution_count": 5,
     "metadata": {},
     "output_type": "execute_result"
    }
   ],
   "source": [
    "financial['date'][0]"
   ]
  },
  {
   "cell_type": "code",
   "execution_count": 6,
   "metadata": {},
   "outputs": [
    {
     "data": {
      "text/html": [
       "<div>\n",
       "<style scoped>\n",
       "    .dataframe tbody tr th:only-of-type {\n",
       "        vertical-align: middle;\n",
       "    }\n",
       "\n",
       "    .dataframe tbody tr th {\n",
       "        vertical-align: top;\n",
       "    }\n",
       "\n",
       "    .dataframe thead th {\n",
       "        text-align: right;\n",
       "    }\n",
       "</style>\n",
       "<table border=\"1\" class=\"dataframe\">\n",
       "  <thead>\n",
       "    <tr style=\"text-align: right;\">\n",
       "      <th></th>\n",
       "      <th>date_str</th>\n",
       "      <th>sp500</th>\n",
       "      <th>djia</th>\n",
       "      <th>date_ex1</th>\n",
       "      <th>date_ex2</th>\n",
       "      <th>date_ex3</th>\n",
       "      <th>date</th>\n",
       "    </tr>\n",
       "  </thead>\n",
       "  <tbody>\n",
       "    <tr>\n",
       "      <th>1304</th>\n",
       "      <td>4/4/2023</td>\n",
       "      <td>4100.60</td>\n",
       "      <td>33402.38</td>\n",
       "      <td>April 04 2023</td>\n",
       "      <td>Tuesday, 2023-04-04</td>\n",
       "      <td>4-Apr-23</td>\n",
       "      <td>2023-04-04</td>\n",
       "    </tr>\n",
       "    <tr>\n",
       "      <th>1303</th>\n",
       "      <td>4/3/2023</td>\n",
       "      <td>4124.51</td>\n",
       "      <td>33601.15</td>\n",
       "      <td>April 03 2023</td>\n",
       "      <td>Monday, 2023-04-03</td>\n",
       "      <td>3-Apr-23</td>\n",
       "      <td>2023-04-03</td>\n",
       "    </tr>\n",
       "    <tr>\n",
       "      <th>1302</th>\n",
       "      <td>3/31/2023</td>\n",
       "      <td>4109.31</td>\n",
       "      <td>33274.15</td>\n",
       "      <td>March 31 2023</td>\n",
       "      <td>Friday, 2023-03-31</td>\n",
       "      <td>31-Mar-23</td>\n",
       "      <td>2023-03-31</td>\n",
       "    </tr>\n",
       "    <tr>\n",
       "      <th>1301</th>\n",
       "      <td>3/30/2023</td>\n",
       "      <td>4050.83</td>\n",
       "      <td>32859.03</td>\n",
       "      <td>March 30 2023</td>\n",
       "      <td>Thursday, 2023-03-30</td>\n",
       "      <td>30-Mar-23</td>\n",
       "      <td>2023-03-30</td>\n",
       "    </tr>\n",
       "    <tr>\n",
       "      <th>1300</th>\n",
       "      <td>3/29/2023</td>\n",
       "      <td>4027.81</td>\n",
       "      <td>32717.60</td>\n",
       "      <td>March 29 2023</td>\n",
       "      <td>Wednesday, 2023-03-29</td>\n",
       "      <td>29-Mar-23</td>\n",
       "      <td>2023-03-29</td>\n",
       "    </tr>\n",
       "    <tr>\n",
       "      <th>...</th>\n",
       "      <td>...</td>\n",
       "      <td>...</td>\n",
       "      <td>...</td>\n",
       "      <td>...</td>\n",
       "      <td>...</td>\n",
       "      <td>...</td>\n",
       "      <td>...</td>\n",
       "    </tr>\n",
       "    <tr>\n",
       "      <th>4</th>\n",
       "      <td>4/10/2018</td>\n",
       "      <td>2656.87</td>\n",
       "      <td>24408.00</td>\n",
       "      <td>April 10 2018</td>\n",
       "      <td>Tuesday, 2018-04-10</td>\n",
       "      <td>10-Apr-18</td>\n",
       "      <td>2018-04-10</td>\n",
       "    </tr>\n",
       "    <tr>\n",
       "      <th>3</th>\n",
       "      <td>4/9/2018</td>\n",
       "      <td>2613.16</td>\n",
       "      <td>23979.10</td>\n",
       "      <td>April 09 2018</td>\n",
       "      <td>Monday, 2018-04-09</td>\n",
       "      <td>9-Apr-18</td>\n",
       "      <td>2018-04-09</td>\n",
       "    </tr>\n",
       "    <tr>\n",
       "      <th>2</th>\n",
       "      <td>4/6/2018</td>\n",
       "      <td>2604.47</td>\n",
       "      <td>23932.76</td>\n",
       "      <td>April 06 2018</td>\n",
       "      <td>Friday, 2018-04-06</td>\n",
       "      <td>6-Apr-18</td>\n",
       "      <td>2018-04-06</td>\n",
       "    </tr>\n",
       "    <tr>\n",
       "      <th>1</th>\n",
       "      <td>4/5/2018</td>\n",
       "      <td>2662.84</td>\n",
       "      <td>24505.22</td>\n",
       "      <td>April 05 2018</td>\n",
       "      <td>Thursday, 2018-04-05</td>\n",
       "      <td>5-Apr-18</td>\n",
       "      <td>2018-04-05</td>\n",
       "    </tr>\n",
       "    <tr>\n",
       "      <th>0</th>\n",
       "      <td>4/4/2018</td>\n",
       "      <td>2644.69</td>\n",
       "      <td>24264.30</td>\n",
       "      <td>April 04 2018</td>\n",
       "      <td>Wednesday, 2018-04-04</td>\n",
       "      <td>4-Apr-18</td>\n",
       "      <td>2018-04-04</td>\n",
       "    </tr>\n",
       "  </tbody>\n",
       "</table>\n",
       "<p>1305 rows × 7 columns</p>\n",
       "</div>"
      ],
      "text/plain": [
       "       date_str    sp500      djia       date_ex1               date_ex2  \\\n",
       "1304   4/4/2023  4100.60  33402.38  April 04 2023    Tuesday, 2023-04-04   \n",
       "1303   4/3/2023  4124.51  33601.15  April 03 2023     Monday, 2023-04-03   \n",
       "1302  3/31/2023  4109.31  33274.15  March 31 2023     Friday, 2023-03-31   \n",
       "1301  3/30/2023  4050.83  32859.03  March 30 2023   Thursday, 2023-03-30   \n",
       "1300  3/29/2023  4027.81  32717.60  March 29 2023  Wednesday, 2023-03-29   \n",
       "...         ...      ...       ...            ...                    ...   \n",
       "4     4/10/2018  2656.87  24408.00  April 10 2018    Tuesday, 2018-04-10   \n",
       "3      4/9/2018  2613.16  23979.10  April 09 2018     Monday, 2018-04-09   \n",
       "2      4/6/2018  2604.47  23932.76  April 06 2018     Friday, 2018-04-06   \n",
       "1      4/5/2018  2662.84  24505.22  April 05 2018   Thursday, 2018-04-05   \n",
       "0      4/4/2018  2644.69  24264.30  April 04 2018  Wednesday, 2018-04-04   \n",
       "\n",
       "       date_ex3       date  \n",
       "1304   4-Apr-23 2023-04-04  \n",
       "1303   3-Apr-23 2023-04-03  \n",
       "1302  31-Mar-23 2023-03-31  \n",
       "1301  30-Mar-23 2023-03-30  \n",
       "1300  29-Mar-23 2023-03-29  \n",
       "...         ...        ...  \n",
       "4     10-Apr-18 2018-04-10  \n",
       "3      9-Apr-18 2018-04-09  \n",
       "2      6-Apr-18 2018-04-06  \n",
       "1      5-Apr-18 2018-04-05  \n",
       "0      4-Apr-18 2018-04-04  \n",
       "\n",
       "[1305 rows x 7 columns]"
      ]
     },
     "execution_count": 6,
     "metadata": {},
     "output_type": "execute_result"
    }
   ],
   "source": [
    "financial.sort_values(\"date\",ascending = False)"
   ]
  },
  {
   "cell_type": "code",
   "execution_count": 7,
   "metadata": {},
   "outputs": [
    {
     "data": {
      "text/plain": [
       "Text(0.5, 1.0, 'The evolution of the stock market')"
      ]
     },
     "execution_count": 7,
     "metadata": {},
     "output_type": "execute_result"
    },
    {
     "data": {
      "image/png": "[encoded data removed]",
      "text/plain": [
       "<Figure size 640x480 with 1 Axes>"
      ]
     },
     "metadata": {},
     "output_type": "display_data"
    }
   ],
   "source": [
    "# plt.plot() is used to create line plots\n",
    "# The first two arguments are column names for the (x,y) data\n",
    "# The third argument is the data\n",
    "# Make sure that the data is sorted, since the lines will be connected\n",
    "# based on the order of the dataset\n",
    "\n",
    "plt.plot(\"date\", \"sp500\",\n",
    "          data = financial)\n",
    "plt.xlabel(\"Time\")\n",
    "plt.ylabel(\"S&P 500 Index\")\n",
    "plt.title(\"The evolution of the stock market\")\n"
   ]
  },
  {
   "attachments": {},
   "cell_type": "markdown",
   "metadata": {},
   "source": [
    "<font size = \"5\">\n",
    "\n",
    "S&P 500 tracks the average performance of <br>\n",
    "of the largest companies in the US stock market\n",
    "\n",
    "$\\quad$ https://en.wikipedia.org/wiki/S%26P_500 <br>\n",
    "$\\quad$ https://fred.stlouisfed.org/series/SP500"
   ]
  },
  {
   "attachments": {},
   "cell_type": "markdown",
   "metadata": {},
   "source": [
    "<font size = \"5\">\n",
    "\n",
    "Try it yourself!\n",
    "\n",
    "- Generate a line plot which has the Dow Jones <br>\n",
    "Industrial Index (\"djia\") on the y-axis and <br>\n",
    "\"date\" on the x-axis."
   ]
  },
  {
   "cell_type": "code",
   "execution_count": 9,
   "metadata": {},
   "outputs": [
    {
     "data": {
      "text/plain": [
       "Text(0.5, 1.0, 'The evolution of the stock market')"
      ]
     },
     "execution_count": 9,
     "metadata": {},
     "output_type": "execute_result"
    },
    {
     "data": {
      "image/png": "[encoded data removed]",
      "text/plain": [
       "<Figure size 640x480 with 1 Axes>"
      ]
     },
     "metadata": {},
     "output_type": "display_data"
    }
   ],
   "source": [
    "# Write your own code\n",
    "\n",
    "plt.plot(\"date\", \"djia\",\n",
    "          data = financial)\n",
    "plt.xlabel(\"Time\")\n",
    "plt.ylabel(\"Dija\")\n",
    "plt.title(\"The evolution of the stock market\")\n",
    "\n"
   ]
  },
  {
   "attachments": {},
   "cell_type": "markdown",
   "metadata": {},
   "source": [
    "# <span style=\"color:darkblue\"> II. Dates + Wild Cards  </span>"
   ]
  },
  {
   "attachments": {},
   "cell_type": "markdown",
   "metadata": {},
   "source": [
    "<font size = \"5\">\n",
    "\n",
    "Convert to string (a)\n",
    "\n",
    "\n",
    "- A wildcard ```%``` is used to denote date formats\n",
    "- Useful when working with text data\n",
    "\n",
    "$\\quad$ <img src=\"figures/wildcards_fig1.png\" alt=\"drawing\" width=\"300\"/>"
   ]
  },
  {
   "cell_type": "code",
   "execution_count": 10,
   "metadata": {},
   "outputs": [],
   "source": [
    "# \"String from time\" .dt.strftime()\n",
    "# The first argument needs to be a datetime type \n",
    "# The second argument is the format you want to use\n",
    "# Note: \"dt\" stands for datatime\n",
    "\n",
    "financial[\"month_str\"] = financial[\"date\"].dt.strftime(\"%m\")\n",
    "financial[\"week_str\"]  = financial[\"date\"].dt.strftime(\"%W\")\n"
   ]
  },
  {
   "attachments": {},
   "cell_type": "markdown",
   "metadata": {},
   "source": [
    "<font size = \"5\">\n",
    "\n",
    "Convert to string (b)\n",
    "\n",
    "$\\quad$ <img src=\"figures/wildcards_fig2.png\" alt=\"drawing\" width=\"400\"/>"
   ]
  },
  {
   "cell_type": "code",
   "execution_count": 11,
   "metadata": {},
   "outputs": [],
   "source": [
    "financial[\"monthname\"]   =  financial[\"date\"].dt.strftime(\"%B\")\n",
    "financial[\"weekdayname\"] =  financial[\"date\"].dt.strftime(\"%A\")"
   ]
  },
  {
   "attachments": {},
   "cell_type": "markdown",
   "metadata": {},
   "source": [
    "<font size = \"5\">\n",
    "\n",
    "Personalized format"
   ]
  },
  {
   "cell_type": "code",
   "execution_count": 12,
   "metadata": {},
   "outputs": [],
   "source": [
    "# Insert wildcards inside custom strings\n",
    "# Internally it will \"fill-in-the-blank\" with the corresponding information\n",
    "# You can use commas, dashes (--), slash (/) or other characters\n",
    "\n",
    "message_monthname =  financial[\"date\"].dt.strftime(\"This is the month of %B\")\n",
    "message_monthday  =  financial[\"date\"].dt.strftime(\"The day of the week is %A\")\n",
    "message_yearmonth =  financial[\"date\"].dt.strftime(\"%Y-%m\")\n"
   ]
  },
  {
   "attachments": {},
   "cell_type": "markdown",
   "metadata": {},
   "source": [
    "<font size = \"5\">\n",
    "\n",
    "Try it yourself!\n",
    "\n",
    "- Create a new column called \"date_test\" <br>\n",
    "  which has the format using ```.dt.strftime()```\n",
    "  \n",
    "$\\quad$ ```Monday, December 31, 2023 ```"
   ]
  },
  {
   "cell_type": "code",
   "execution_count": 13,
   "metadata": {},
   "outputs": [],
   "source": [
    "# Write your own code\n",
    "financial[\"date_test\"]   =  financial[\"date\"].dt.strftime(\"%A,%B %d, %Y\")\n",
    "\n"
   ]
  },
  {
   "attachments": {},
   "cell_type": "markdown",
   "metadata": {},
   "source": [
    "# <span style=\"color:darkblue\"> III. Data Operations </span>"
   ]
  },
  {
   "attachments": {},
   "cell_type": "markdown",
   "metadata": {},
   "source": [
    "<font size = \"5\">\n",
    "\n",
    "Parsing + wild cards\n",
    "\n",
    "$\\quad$ <img src=\"figures/wildcards_fig3.png\" alt=\"drawing\" width=\"400\"/>"
   ]
  },
  {
   "cell_type": "code",
   "execution_count": 14,
   "metadata": {},
   "outputs": [],
   "source": [
    "# Combine wildcards + characters depending on the input\n",
    "# Can include spaces, commas, \"/\", \"-\" or any other formatting\n",
    "# Be careful to include the wildcar letters in upper or lower case \n",
    "# depending on the intended format \n",
    "\n",
    "financial['date_ex1_dt'] = pd.to_datetime(financial[\"date_ex1\"], format = \"%B %d %Y\")\n",
    "financial['date_ex2_dt'] = pd.to_datetime(financial[\"date_ex2\"], format = \"%A, %Y-%m-%d\")\n"
   ]
  },
  {
   "cell_type": "markdown",
   "metadata": {},
   "source": [
    "**Does the following line of code work?** ```pd.to_datetime(financial[\"date_ex1\"], format = \"%A, %Y-%m-%d\")```"
   ]
  },
  {
   "attachments": {},
   "cell_type": "markdown",
   "metadata": {},
   "source": [
    "<font size = \"5\">\n",
    "\n",
    "Period grouping"
   ]
  },
  {
   "cell_type": "code",
   "execution_count": 15,
   "metadata": {},
   "outputs": [],
   "source": [
    "# In \"freq\" specify the letter for the level of aggregation\n",
    "# year (y), month (m), week (w), day(d)\n",
    "# There are also more advanced options! See documentation\n",
    "\n",
    "month_config = pd.Grouper(key='date', freq='y')"
   ]
  },
  {
   "attachments": {},
   "cell_type": "markdown",
   "metadata": {},
   "source": [
    "<font size = \"5\">\n",
    "\n",
    "Aggregate by period"
   ]
  },
  {
   "cell_type": "code",
   "execution_count": 16,
   "metadata": {},
   "outputs": [
    {
     "data": {
      "text/html": [
       "<div>\n",
       "<style scoped>\n",
       "    .dataframe tbody tr th:only-of-type {\n",
       "        vertical-align: middle;\n",
       "    }\n",
       "\n",
       "    .dataframe tbody tr th {\n",
       "        vertical-align: top;\n",
       "    }\n",
       "\n",
       "    .dataframe thead th {\n",
       "        text-align: right;\n",
       "    }\n",
       "</style>\n",
       "<table border=\"1\" class=\"dataframe\">\n",
       "  <thead>\n",
       "    <tr style=\"text-align: right;\">\n",
       "      <th></th>\n",
       "      <th>date</th>\n",
       "      <th>sp500_mean</th>\n",
       "    </tr>\n",
       "  </thead>\n",
       "  <tbody>\n",
       "    <tr>\n",
       "      <th>0</th>\n",
       "      <td>2018-12-31</td>\n",
       "      <td>2751.921862</td>\n",
       "    </tr>\n",
       "    <tr>\n",
       "      <th>1</th>\n",
       "      <td>2019-12-31</td>\n",
       "      <td>2913.360556</td>\n",
       "    </tr>\n",
       "    <tr>\n",
       "      <th>2</th>\n",
       "      <td>2020-12-31</td>\n",
       "      <td>3217.856482</td>\n",
       "    </tr>\n",
       "    <tr>\n",
       "      <th>3</th>\n",
       "      <td>2021-12-31</td>\n",
       "      <td>4273.406627</td>\n",
       "    </tr>\n",
       "    <tr>\n",
       "      <th>4</th>\n",
       "      <td>2022-12-31</td>\n",
       "      <td>4098.514741</td>\n",
       "    </tr>\n",
       "    <tr>\n",
       "      <th>5</th>\n",
       "      <td>2023-12-31</td>\n",
       "      <td>4003.579844</td>\n",
       "    </tr>\n",
       "  </tbody>\n",
       "</table>\n",
       "</div>"
      ],
      "text/plain": [
       "        date   sp500_mean\n",
       "0 2018-12-31  2751.921862\n",
       "1 2019-12-31  2913.360556\n",
       "2 2020-12-31  3217.856482\n",
       "3 2021-12-31  4273.406627\n",
       "4 2022-12-31  4098.514741\n",
       "5 2023-12-31  4003.579844"
      ]
     },
     "execution_count": 16,
     "metadata": {},
     "output_type": "execute_result"
    }
   ],
   "source": [
    "financial.groupby(month_config).agg(sp500_mean = (\"sp500\",\"mean\")).reset_index()"
   ]
  },
  {
   "cell_type": "code",
   "execution_count": 17,
   "metadata": {},
   "outputs": [],
   "source": [
    "# Group on the period column\n",
    "# We use a wrapper () to split the command into multiple lines\n",
    "# The \".reset_index()\" option ensures that the grouper is\n",
    "# converted to a column. This is important for plotting.\n",
    "# There's a lot of options to \n",
    "\n",
    "monthlydata = (financial\n",
    "               .groupby(month_config) \n",
    "               .agg(sp500_mean = (\"sp500\",\"mean\"))\n",
    "               .reset_index())"
   ]
  },
  {
   "cell_type": "code",
   "execution_count": 18,
   "metadata": {},
   "outputs": [
    {
     "data": {
      "text/html": [
       "<div>\n",
       "<style scoped>\n",
       "    .dataframe tbody tr th:only-of-type {\n",
       "        vertical-align: middle;\n",
       "    }\n",
       "\n",
       "    .dataframe tbody tr th {\n",
       "        vertical-align: top;\n",
       "    }\n",
       "\n",
       "    .dataframe thead th {\n",
       "        text-align: right;\n",
       "    }\n",
       "</style>\n",
       "<table border=\"1\" class=\"dataframe\">\n",
       "  <thead>\n",
       "    <tr style=\"text-align: right;\">\n",
       "      <th></th>\n",
       "      <th>date</th>\n",
       "      <th>sp500_mean</th>\n",
       "    </tr>\n",
       "  </thead>\n",
       "  <tbody>\n",
       "    <tr>\n",
       "      <th>0</th>\n",
       "      <td>2018-12-31</td>\n",
       "      <td>2751.921862</td>\n",
       "    </tr>\n",
       "    <tr>\n",
       "      <th>1</th>\n",
       "      <td>2019-12-31</td>\n",
       "      <td>2913.360556</td>\n",
       "    </tr>\n",
       "    <tr>\n",
       "      <th>2</th>\n",
       "      <td>2020-12-31</td>\n",
       "      <td>3217.856482</td>\n",
       "    </tr>\n",
       "    <tr>\n",
       "      <th>3</th>\n",
       "      <td>2021-12-31</td>\n",
       "      <td>4273.406627</td>\n",
       "    </tr>\n",
       "    <tr>\n",
       "      <th>4</th>\n",
       "      <td>2022-12-31</td>\n",
       "      <td>4098.514741</td>\n",
       "    </tr>\n",
       "    <tr>\n",
       "      <th>5</th>\n",
       "      <td>2023-12-31</td>\n",
       "      <td>4003.579844</td>\n",
       "    </tr>\n",
       "  </tbody>\n",
       "</table>\n",
       "</div>"
      ],
      "text/plain": [
       "        date   sp500_mean\n",
       "0 2018-12-31  2751.921862\n",
       "1 2019-12-31  2913.360556\n",
       "2 2020-12-31  3217.856482\n",
       "3 2021-12-31  4273.406627\n",
       "4 2022-12-31  4098.514741\n",
       "5 2023-12-31  4003.579844"
      ]
     },
     "execution_count": 18,
     "metadata": {},
     "output_type": "execute_result"
    }
   ],
   "source": [
    "monthlydata"
   ]
  },
  {
   "attachments": {},
   "cell_type": "markdown",
   "metadata": {},
   "source": [
    "<font size = \"5\">\n",
    "\n",
    "Plot aggregate data"
   ]
  },
  {
   "cell_type": "code",
   "execution_count": 19,
   "metadata": {},
   "outputs": [
    {
     "data": {
      "text/plain": [
       "Text(0.5, 1.0, 'Monthly average stock market performance')"
      ]
     },
     "execution_count": 19,
     "metadata": {},
     "output_type": "execute_result"
    },
    {
     "data": {
      "image/png": "[encoded data removed]",
      "text/plain": [
       "<Figure size 640x480 with 1 Axes>"
      ]
     },
     "metadata": {},
     "output_type": "display_data"
    }
   ],
   "source": [
    "plt.plot(\"date\",\"sp500_mean\",\n",
    "          data = monthlydata)\n",
    "plt.xlabel(\"Time\")\n",
    "plt.ylabel(\"S&P 500\")\n",
    "plt.title(\"Monthly average stock market performance\")"
   ]
  },
  {
   "attachments": {},
   "cell_type": "markdown",
   "metadata": {},
   "source": [
    "<font size = \"5\">\n",
    "\n",
    "Try it yourself!\n",
    "\n",
    "- Practice ```pd.to_datetime()```\n",
    "- Parse the column \"data_ex3\"\n",
    "- Take a close look at the formatting\n",
    "\n",
    "HINT: Refer to the table of wildcards <br>\n",
    " in the previous section\n"
   ]
  },
  {
   "cell_type": "code",
   "execution_count": 23,
   "metadata": {},
   "outputs": [],
   "source": [
    "# Write your own code\n",
    "\n",
    "financial[\"date_ex3_dt\"] = pd.to_datetime(financial[\"date_ex3\"], format = \"%d-%b-%y\")"
   ]
  },
  {
   "attachments": {},
   "cell_type": "markdown",
   "metadata": {},
   "source": [
    "<font size = \"5\">\n",
    "\n"
   ]
  },
  {
   "attachments": {},
   "cell_type": "markdown",
   "metadata": {},
   "source": [
    "<font size = \"5\">\n",
    "\n",
    "Try it yourself!\n",
    "\n",
    "- Compute an aggregate dataset which computes the standard <br>\n",
    "deviation of the S&P 500 at the weekly level.\n",
    "- Generate a line plot with your results\n"
   ]
  },
  {
   "cell_type": "code",
   "execution_count": null,
   "metadata": {},
   "outputs": [],
   "source": [
    "# Write your own code\n",
    "\n"
   ]
  },
  {
   "attachments": {},
   "cell_type": "markdown",
   "metadata": {},
   "source": [
    "# <span style=\"color:darkblue\"> IV. Additional Material </span>"
   ]
  },
  {
   "attachments": {},
   "cell_type": "markdown",
   "metadata": {},
   "source": [
    "<font size = \"5\">\n",
    "\n",
    "Full list of wild cards:\n",
    "\n",
    "- More fine-grained, e.g. microseconds, etc.\n",
    "- Other formats, e.g. time zone, \"AM/PM\", etc.\n",
    "\n",
    "https://www.w3schools.com/python/python_datetime.asp"
   ]
  }
 ],
 "metadata": {
  "kernelspec": {
   "display_name": "base",
   "language": "python",
   "name": "python3"
  },
  "language_info": {
   "codemirror_mode": {
    "name": "ipython",
    "version": 3
   },
   "file_extension": ".py",
   "mimetype": "text/x-python",
   "name": "python",
   "nbconvert_exporter": "python",
   "pygments_lexer": "ipython3",
   "version": "3.10.13"
  },
  "orig_nbformat": 4
 },
 "nbformat": 4,
 "nbformat_minor": 2
}
